{
 "cells": [
  {
   "cell_type": "markdown",
   "id": "authentic-wichita",
   "metadata": {},
   "source": [
    "# Monitor Riser\n",
    "> Designed by Andrew Reid (@madeformaking)\n",
    "\n",
    "Units: milimeters (mm)\n",
    "\n",
    "[Pinterest - Monitor riser](https://www.pinterest.co.uk/search/pins/?q=monitor%20riser&rs=typed&term_meta[]=monitor%7Ctyped&term_meta[]=riser%7Ctyped)\n",
    "\n",
    "[Yeggi - Monitor riser](https://www.yeggi.com/q/monitor+riser/)\n",
    "\n",
    "[Thingiverse](https://www.thingiverse.com/thing:4687708)"
   ]
  },
  {
   "cell_type": "code",
   "execution_count": 76,
   "id": "absent-retirement",
   "metadata": {},
   "outputs": [],
   "source": [
    "import cadquery as cq\n",
    "from jupyter_cadquery.cadquery import show\n",
    "\n",
    "from jupyter_cadquery import set_sidecar\n",
    "\n",
    "set_sidecar(\"CadQuery\")"
   ]
  },
  {
   "cell_type": "code",
   "execution_count": 206,
   "id": "optical-copyright",
   "metadata": {},
   "outputs": [],
   "source": [
    "length = 200\n",
    "width = 50\n",
    "height = 50\n",
    "thickness = 10\n",
    "fillet_radius_internal = 10\n",
    "fillet_radius_external = fillet_radius_internal+thickness"
   ]
  },
  {
   "cell_type": "code",
   "execution_count": 209,
   "id": "returning-conflict",
   "metadata": {},
   "outputs": [
    {
     "name": "stdout",
     "output_type": "stream",
     "text": [
      "Done, using side car 'CadQuery'\n"
     ]
    },
    {
     "data": {
      "text/plain": [
       "<jupyter_cadquery.cad_display.CadqueryDisplay at 0x25ea34a3940>"
      ]
     },
     "execution_count": 209,
     "metadata": {},
     "output_type": "execute_result"
    }
   ],
   "source": [
    "result = (\n",
    "    cq.Workplane(\"XY\").box(length, width, height)\n",
    "        .moveTo(0,thickness/2)\n",
    "        .rect(length-(2*thickness), height-thickness)\n",
    "        .cutThruAll()\n",
    "        .edges(\"Z and (not >>Y) and (not <<Y)\")\n",
    "        #.size()\n",
    "        .fillet(fillet_radius_internal)\n",
    "        .edges(\"<Y and |Z\")\n",
    "        .fillet(fillet_radius_external)\n",
    ")\n",
    "show(result)"
   ]
  }
 ],
 "metadata": {
  "kernelspec": {
   "display_name": "cq2.1",
   "language": "python",
   "name": "cadquery2.1"
  },
  "language_info": {
   "codemirror_mode": {
    "name": "ipython",
    "version": 3
   },
   "file_extension": ".py",
   "mimetype": "text/x-python",
   "name": "python",
   "nbconvert_exporter": "python",
   "pygments_lexer": "ipython3",
   "version": "3.8.8"
  }
 },
 "nbformat": 4,
 "nbformat_minor": 5
}
